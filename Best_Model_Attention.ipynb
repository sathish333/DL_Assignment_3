{
 "cells": [
  {
   "cell_type": "code",
   "execution_count": 1,
   "metadata": {
    "execution": {
     "iopub.execute_input": "2023-05-20T19:19:20.617665Z",
     "iopub.status.busy": "2023-05-20T19:19:20.616943Z",
     "iopub.status.idle": "2023-05-20T19:19:26.267413Z",
     "shell.execute_reply": "2023-05-20T19:19:26.266476Z",
     "shell.execute_reply.started": "2023-05-20T19:19:20.617627Z"
    }
   },
   "outputs": [],
   "source": [
    "import numpy as np\n",
    "import pandas as pd\n",
    "import torch.nn as nn\n",
    "import torch\n",
    "from types import SimpleNamespace\n",
    "from torch.nn.utils.rnn import pad_sequence\n",
    "import torch.optim as optim\n",
    "import random\n",
    "import torch.nn.functional as F\n",
    "import seaborn as sns\n",
    "from matplotlib.font_manager import FontProperties\n",
    "import matplotlib.pyplot as plt\n",
    "import wandb\n",
    "from utilities import *"
   ]
  },
  {
   "cell_type": "code",
   "execution_count": 10,
   "metadata": {
    "execution": {
     "iopub.execute_input": "2023-05-20T19:44:36.488741Z",
     "iopub.status.busy": "2023-05-20T19:44:36.488354Z",
     "iopub.status.idle": "2023-05-20T19:44:38.850593Z",
     "shell.execute_reply": "2023-05-20T19:44:38.849331Z",
     "shell.execute_reply.started": "2023-05-20T19:44:36.488714Z"
    }
   },
   "outputs": [],
   "source": [
    "#loading data\n",
    "train,valid,test=load_data(data_path,lang)\n",
    "\n",
    "add_start_end(train) #adding start and end characters\n",
    "add_start_end(valid)\n",
    "add_start_end(test)\n",
    "\n",
    "train_src_chars,train_target_chars=get_unique_chars(train) # obtain unique charcaters\n",
    "valid_src_chars,valid_target_chars=get_unique_chars(valid)\n",
    "test_src_chars,test_target_chars=get_unique_chars(test)\n",
    "train_target_chars.add('*') # extra char to handle unknowns in valid and test data.\n",
    "    \n",
    "src_char_idx,src_idx_char=get_char_map(train_src_chars) # create map for each unique charcter to -> integer\n",
    "target_char_idx,target_idx_char=get_char_map(train_target_chars)\n",
    "\n",
    "encoder_vocab_size=len(src_char_idx)+1 # one extra for padding\n",
    "decoder_vocab_size=len(target_char_idx)+1 # one extra for padding\n",
    "\n",
    "max_seq_length=train[0].apply(lambda x:len(x)).max() # maximum sequence lenght in Latin\n",
    "max_target_length=train[1].apply(lambda x:len(x)).max() # maximum target length\n",
    "\n",
    "\n",
    "#creating word vectors\n",
    "train_src_int,train_target_int=vectorize(train,src_char_idx,target_char_idx,max_seq_length)\n",
    "valid_src_int,valid_target_int=vectorize(valid,src_char_idx,target_char_idx,max_seq_length)\n",
    "test_src_int,test_target_int=vectorize(test,src_char_idx,target_char_idx,max_seq_length)\n",
    "\n",
    "\n",
    "def main():\n",
    "#     wandb.init()\n",
    "#     config=wandb.config \n",
    "#     run_name=f'Attention -Yes Cell-{config.cell_type} Hidden-{config.hidden_size} Embedding-{config.embedding_size} Bidir-{config.bidirectional} Dropout -{config.dropout} EL-{config.encoder_num_layers} DL-{config.decoder_num_layers}'\n",
    "#     wandb.run.name=run_name\n",
    "    config.encoder_vocab_size=encoder_vocab_size\n",
    "    config.decoder_vocab_size=decoder_vocab_size\n",
    "    config.max_seq_length=max_seq_length\n",
    "\n",
    "    model=AttentionSeq2Seq(config).to(device)\n",
    "    optimizer = optim.Adam(model.parameters(), lr=0.001)\n",
    "    criterion = nn.CrossEntropyLoss(ignore_index=0)\n",
    "    \n",
    "    for epoch in range(config.epochs):\n",
    "        train_loss=0\n",
    "        train_acc=0\n",
    "        model.train()\n",
    "        batch_no=0\n",
    "        for data in get_batch(train_src_int,train_target_int,config.batch_size):\n",
    "#             print(batch_no)\n",
    "            batch_no+=1\n",
    "            x=data[0]\n",
    "            y=data[1]\n",
    "            x=x.to(torch.int64).T\n",
    "            y=y.to(torch.int64).T\n",
    "            outputs,attention_scores=model.forward(x,y)\n",
    "            output=outputs.reshape(-1,outputs.shape[2])\n",
    "            target=y.reshape(-1)\n",
    "            optimizer.zero_grad()\n",
    "            target=target-1\n",
    "            target[target<0]=0\n",
    "            loss = criterion(output, target)\n",
    "            loss.backward()\n",
    "            torch.nn.utils.clip_grad_norm_(model.parameters(), max_norm=1)# gradient clipping \n",
    "            optimizer.step()# update parameters\n",
    "            train_loss+=loss.item()*config.batch_size\n",
    "\n",
    "            batch_acc=cal_acc(outputs,y)\n",
    "            train_acc+=batch_acc\n",
    "        train_loss/=len(train_src_int)\n",
    "        train_acc/=batch_no \n",
    "        model.eval()\n",
    "\n",
    "        valid_loss=0\n",
    "        valid_acc=0\n",
    "        batch_no=0\n",
    "        with torch.no_grad():# disable storing computation graph\n",
    "            for data in get_batch(valid_src_int,valid_target_int,config.batch_size):\n",
    "                batch_no+=1\n",
    "                x=data[0]\n",
    "                y=data[1]\n",
    "                x=x.to(torch.int64).T\n",
    "                y=y.to(torch.int64).T\n",
    "                outputs,attention_scores=model.forward(x,y,prediction=True)# prediction set to True to disable teacher forcing\n",
    "                output=outputs.reshape(-1,outputs.shape[2])\n",
    "                target=y.reshape(-1)\n",
    "                target=target-1\n",
    "                target[target<0]=0\n",
    "                loss = criterion(output, target)\n",
    "                valid_loss+=loss.item()*config.batch_size\n",
    "                valid_acc+=cal_acc(outputs,y)\n",
    "            valid_loss/=len(valid_src_int)\n",
    "            valid_acc/=batch_no\n",
    "        print(f'Epoch: {epoch+1} Train Loss: {train_loss:.4f} Valid Loss: {valid_loss:.4f} Train Acc: {train_acc:.4f}  Valid Acc: {valid_acc:.4f}')\n",
    "#         wandb.log({'train accuracy':train_acc*100,'train loss':train_loss,'valid accuracy':valid_acc*100,'valid loss':valid_loss})\n",
    "#     wandb.finish()\n",
    "    return model"
   ]
  },
  {
   "cell_type": "code",
   "execution_count": 11,
   "metadata": {
    "execution": {
     "iopub.execute_input": "2023-05-20T19:44:52.571030Z",
     "iopub.status.busy": "2023-05-20T19:44:52.570675Z",
     "iopub.status.idle": "2023-05-20T19:52:30.807019Z",
     "shell.execute_reply": "2023-05-20T19:52:30.805952Z",
     "shell.execute_reply.started": "2023-05-20T19:44:52.571003Z"
    }
   },
   "outputs": [
    {
     "name": "stdout",
     "output_type": "stream",
     "text": [
      "Epoch: 1 Train Loss: 1.9087 Valid Loss: 1.2351 Train Acc: 0.0527  Valid Acc: 0.2686\n",
      "Epoch: 2 Train Loss: 0.6969 Valid Loss: 0.9873 Train Acc: 0.3984  Valid Acc: 0.4280\n",
      "Epoch: 3 Train Loss: 0.5803 Valid Loss: 0.9711 Train Acc: 0.5130  Valid Acc: 0.4858\n",
      "Epoch: 4 Train Loss: 0.5406 Valid Loss: 0.9654 Train Acc: 0.5672  Valid Acc: 0.4958\n",
      "Epoch: 5 Train Loss: 0.5024 Valid Loss: 0.9512 Train Acc: 0.6142  Valid Acc: 0.5068\n",
      "Epoch: 6 Train Loss: 0.4802 Valid Loss: 0.9365 Train Acc: 0.6456  Valid Acc: 0.5205\n",
      "Epoch: 7 Train Loss: 0.4621 Valid Loss: 0.9506 Train Acc: 0.6686  Valid Acc: 0.5269\n",
      "Epoch: 8 Train Loss: 0.4506 Valid Loss: 0.9819 Train Acc: 0.6918  Valid Acc: 0.5400\n",
      "Epoch: 9 Train Loss: 0.4351 Valid Loss: 0.9572 Train Acc: 0.7158  Valid Acc: 0.5376\n",
      "Epoch: 10 Train Loss: 0.4290 Valid Loss: 0.9701 Train Acc: 0.7324  Valid Acc: 0.5337\n",
      "Epoch: 11 Train Loss: 0.4271 Valid Loss: 0.9876 Train Acc: 0.7398  Valid Acc: 0.5444\n",
      "Epoch: 12 Train Loss: 0.4210 Valid Loss: 0.9791 Train Acc: 0.7507  Valid Acc: 0.5522\n",
      "Epoch: 13 Train Loss: 0.4079 Valid Loss: 1.0067 Train Acc: 0.7697  Valid Acc: 0.5564\n",
      "Epoch: 14 Train Loss: 0.4068 Valid Loss: 1.0004 Train Acc: 0.7801  Valid Acc: 0.5549\n",
      "Epoch: 15 Train Loss: 0.4016 Valid Loss: 1.0087 Train Acc: 0.7899  Valid Acc: 0.5503\n"
     ]
    }
   ],
   "source": [
    "config={'batch_size': 256, 'bidirectional': 'Yes', 'cell_type': 'GRU', 'decoder_num_layers': 2, 'dropout': 0.2, 'embedding_size': 256, 'encoder_num_layers': 3, 'epochs': 15, 'hidden_size': 512}\n",
    "\n",
    "config=SimpleNamespace(**config)\n",
    "\n",
    "model=main()"
   ]
  },
  {
   "cell_type": "code",
   "execution_count": 12,
   "metadata": {
    "execution": {
     "iopub.execute_input": "2023-05-20T19:53:20.636866Z",
     "iopub.status.busy": "2023-05-20T19:53:20.636205Z",
     "iopub.status.idle": "2023-05-20T19:53:56.257958Z",
     "shell.execute_reply": "2023-05-20T19:53:56.257113Z",
     "shell.execute_reply.started": "2023-05-20T19:53:20.636834Z"
    }
   },
   "outputs": [
    {
     "name": "stderr",
     "output_type": "stream",
     "text": [
      "\u001b[34m\u001b[1mwandb\u001b[0m: \u001b[33mWARNING\u001b[0m Calling wandb.login() after wandb.init() has no effect.\n"
     ]
    },
    {
     "data": {
      "text/html": [
       "Finishing last run (ID:f4eikmi2) before initializing another..."
      ],
      "text/plain": [
       "<IPython.core.display.HTML object>"
      ]
     },
     "metadata": {},
     "output_type": "display_data"
    },
    {
     "data": {
      "text/html": [
       "Waiting for W&B process to finish... <strong style=\"color:green\">(success).</strong>"
      ],
      "text/plain": [
       "<IPython.core.display.HTML object>"
      ]
     },
     "metadata": {},
     "output_type": "display_data"
    },
    {
     "data": {
      "application/vnd.jupyter.widget-view+json": {
       "model_id": "dff1d680da094138a70f78bf54b22eaf",
       "version_major": 2,
       "version_minor": 0
      },
      "text/plain": [
       "VBox(children=(Label(value='0.001 MB of 0.001 MB uploaded (0.000 MB deduped)\\r'), FloatProgress(value=1.0, max…"
      ]
     },
     "metadata": {},
     "output_type": "display_data"
    },
    {
     "data": {
      "text/html": [
       "<style>\n",
       "    table.wandb td:nth-child(1) { padding: 0 10px; text-align: left ; width: auto;} td:nth-child(2) {text-align: left ; width: 100%}\n",
       "    .wandb-row { display: flex; flex-direction: row; flex-wrap: wrap; justify-content: flex-start; width: 100% }\n",
       "    .wandb-col { display: flex; flex-direction: column; flex-basis: 100%; flex: 1; padding: 10px; }\n",
       "    </style>\n",
       "<div class=\"wandb-row\"><div class=\"wandb-col\"><h3>Run history:</h3><br/><table class=\"wandb\"><tr><td>test accuracy</td><td>▁</td></tr></table><br/></div><div class=\"wandb-col\"><h3>Run summary:</h3><br/><table class=\"wandb\"><tr><td>test accuracy</td><td>0.50708</td></tr></table><br/></div></div>"
      ],
      "text/plain": [
       "<IPython.core.display.HTML object>"
      ]
     },
     "metadata": {},
     "output_type": "display_data"
    },
    {
     "data": {
      "text/html": [
       " View run <strong style=\"color:#cdcd00\">grateful-night-1</strong> at: <a href='https://wandb.ai/cs22m080/Attention_Best_model/runs/f4eikmi2' target=\"_blank\">https://wandb.ai/cs22m080/Attention_Best_model/runs/f4eikmi2</a><br/>Synced 6 W&B file(s), 0 media file(s), 0 artifact file(s) and 0 other file(s)"
      ],
      "text/plain": [
       "<IPython.core.display.HTML object>"
      ]
     },
     "metadata": {},
     "output_type": "display_data"
    },
    {
     "data": {
      "text/html": [
       "Find logs at: <code>./wandb/run-20230520_193056-f4eikmi2/logs</code>"
      ],
      "text/plain": [
       "<IPython.core.display.HTML object>"
      ]
     },
     "metadata": {},
     "output_type": "display_data"
    },
    {
     "data": {
      "text/html": [
       "Successfully finished last run (ID:f4eikmi2). Initializing new run:<br/>"
      ],
      "text/plain": [
       "<IPython.core.display.HTML object>"
      ]
     },
     "metadata": {},
     "output_type": "display_data"
    },
    {
     "data": {
      "text/html": [
       "wandb version 0.15.3 is available!  To upgrade, please run:\n",
       " $ pip install wandb --upgrade"
      ],
      "text/plain": [
       "<IPython.core.display.HTML object>"
      ]
     },
     "metadata": {},
     "output_type": "display_data"
    },
    {
     "data": {
      "text/html": [
       "Tracking run with wandb version 0.15.0"
      ],
      "text/plain": [
       "<IPython.core.display.HTML object>"
      ]
     },
     "metadata": {},
     "output_type": "display_data"
    },
    {
     "data": {
      "text/html": [
       "Run data is saved locally in <code>/kaggle/working/wandb/run-20230520_195320-cjze08qu</code>"
      ],
      "text/plain": [
       "<IPython.core.display.HTML object>"
      ]
     },
     "metadata": {},
     "output_type": "display_data"
    },
    {
     "data": {
      "text/html": [
       "Syncing run <strong><a href='https://wandb.ai/cs22m080/Attention_Best_model/runs/cjze08qu' target=\"_blank\">lucky-serenity-2</a></strong> to <a href='https://wandb.ai/cs22m080/Attention_Best_model' target=\"_blank\">Weights & Biases</a> (<a href='https://wandb.me/run' target=\"_blank\">docs</a>)<br/>"
      ],
      "text/plain": [
       "<IPython.core.display.HTML object>"
      ]
     },
     "metadata": {},
     "output_type": "display_data"
    },
    {
     "data": {
      "text/html": [
       " View project at <a href='https://wandb.ai/cs22m080/Attention_Best_model' target=\"_blank\">https://wandb.ai/cs22m080/Attention_Best_model</a>"
      ],
      "text/plain": [
       "<IPython.core.display.HTML object>"
      ]
     },
     "metadata": {},
     "output_type": "display_data"
    },
    {
     "data": {
      "text/html": [
       " View run at <a href='https://wandb.ai/cs22m080/Attention_Best_model/runs/cjze08qu' target=\"_blank\">https://wandb.ai/cs22m080/Attention_Best_model/runs/cjze08qu</a>"
      ],
      "text/plain": [
       "<IPython.core.display.HTML object>"
      ]
     },
     "metadata": {},
     "output_type": "display_data"
    },
    {
     "data": {
      "text/html": [
       "<button onClick=\"this.nextSibling.style.display='block';this.style.display='none';\">Display W&B run</button><iframe src='https://wandb.ai/cs22m080/Attention_Best_model/runs/cjze08qu?jupyter=true' style='border:none;width:100%;height:420px;display:none;'></iframe>"
      ],
      "text/plain": [
       "<wandb.sdk.wandb_run.Run at 0x7b0401503dc0>"
      ]
     },
     "execution_count": 12,
     "metadata": {},
     "output_type": "execute_result"
    }
   ],
   "source": [
    "wandb.login(key='24434976526d9265fdbe2b2150787f46522f5da4')\n",
    "wandb.init(project='Attention_Best_model')"
   ]
  },
  {
   "cell_type": "code",
   "execution_count": 13,
   "metadata": {
    "execution": {
     "iopub.execute_input": "2023-05-20T19:54:03.806821Z",
     "iopub.status.busy": "2023-05-20T19:54:03.806396Z",
     "iopub.status.idle": "2023-05-20T19:54:05.189639Z",
     "shell.execute_reply": "2023-05-20T19:54:05.188472Z",
     "shell.execute_reply.started": "2023-05-20T19:54:03.806789Z"
    }
   },
   "outputs": [
    {
     "name": "stdout",
     "output_type": "stream",
     "text": [
      "test accuracy is:  0.5098\n"
     ]
    }
   ],
   "source": [
    "# test data predictions into a csv file\n",
    "\n",
    "target_end_index=target_char_idx['$']\n",
    "li=[]\n",
    "batch_no=0\n",
    "test_acc=0\n",
    "for data in get_batch(test_src_int,test_target_int,config.batch_size):\n",
    "    batch_no+=1\n",
    "    x=data[0]\n",
    "    y=data[1]\n",
    "    x=x.to(torch.int64).T\n",
    "    y=y.to(torch.int64).T\n",
    "    target=y.detach().cpu().numpy()\n",
    "    src=x.detach().cpu().numpy()\n",
    "    outputs,_=model.forward(x,y,prediction=True)\n",
    "    batch_acc=cal_acc(outputs,y)\n",
    "    test_acc+=batch_acc\n",
    "    out=outputs.argmax(axis=2).detach().cpu().numpy()+1\n",
    "    for idx in range(out.shape[1]):\n",
    "        each_out=out[:,idx]\n",
    "        each_target=target[:,idx]\n",
    "        each_src=src[:,idx]\n",
    "        src_last_index=np.max(np.nonzero(each_src))\n",
    "        src_str=decode_src(each_src[:src_last_index],src_idx_char)\n",
    "#         print(src_str,end=\" \")\n",
    "        target_last_index=np.max(np.nonzero(each_target))\n",
    "        target_str=decode_target(each_target[:target_last_index],target_idx_char,target_end_index)\n",
    "#         print(target_str,end=\" \")\n",
    "        \n",
    "        for i,value in enumerate(each_out):\n",
    "            if value==target_end_index:\n",
    "                pred_end_index=i\n",
    "                break\n",
    "        pred_str=decode_target(each_out[:pred_end_index],target_idx_char,target_end_index)\n",
    "#         print(pred_str)\n",
    "        li.append([src_str,target_str,pred_str])\n",
    "\n",
    "test_acc/=batch_no\n",
    "wandb.log({'test accuracy':test_acc})\n",
    "print(f\"test accuracy is:  {test_acc:.4f}\")\n",
    "df=pd.DataFrame(li,columns=['Source','Target','Predicted'])\n",
    "df.to_csv('Test_predictions_Attention.csv',index=False)"
   ]
  },
  {
   "cell_type": "code",
   "execution_count": 14,
   "metadata": {
    "execution": {
     "iopub.execute_input": "2023-05-20T19:54:21.599591Z",
     "iopub.status.busy": "2023-05-20T19:54:21.599016Z",
     "iopub.status.idle": "2023-05-20T19:54:24.566848Z",
     "shell.execute_reply": "2023-05-20T19:54:24.565712Z",
     "shell.execute_reply.started": "2023-05-20T19:54:21.599551Z"
    }
   },
   "outputs": [
    {
     "name": "stdout",
     "output_type": "stream",
     "text": [
      "--2023-05-20 19:54:22--  https://fonts.google.com/download?family=Mandali\n",
      "Resolving fonts.google.com (fonts.google.com)... 74.125.20.100, 74.125.20.101, 74.125.20.138, ...\n",
      "Connecting to fonts.google.com (fonts.google.com)|74.125.20.100|:443... connected.\n",
      "HTTP request sent, awaiting response... 200 OK\n",
      "Length: unspecified [application/zip]\n",
      "Saving to: ‘mandali.zip’\n",
      "\n",
      "mandali.zip             [ <=>                ] 222.23K  --.-KB/s    in 0.1s    \n",
      "\n",
      "2023-05-20 19:54:23 (1.99 MB/s) - ‘mandali.zip’ saved [227564]\n",
      "\n",
      "Archive:  mandali.zip\n",
      "  inflating: mandali/OFL.txt         \n",
      "  inflating: mandali/Mandali-Regular.ttf  \n"
     ]
    }
   ],
   "source": [
    "! wget https://fonts.google.com/download?family=Mandali -O mandali.zip\n",
    "! unzip mandali.zip -d mandali "
   ]
  },
  {
   "cell_type": "code",
   "execution_count": 20,
   "metadata": {
    "execution": {
     "iopub.execute_input": "2023-05-20T20:07:10.806617Z",
     "iopub.status.busy": "2023-05-20T20:07:10.805669Z",
     "iopub.status.idle": "2023-05-20T20:07:15.975838Z",
     "shell.execute_reply": "2023-05-20T20:07:15.974853Z",
     "shell.execute_reply.started": "2023-05-20T20:07:10.806579Z"
    }
   },
   "outputs": [
    {
     "data": {
      "image/png": "[encoded data removed]",
      "text/plain": [
       "<Figure size 1000x1000 with 9 Axes>"
      ]
     },
     "metadata": {},
     "output_type": "display_data"
    }
   ],
   "source": [
    "# Attention map visulaization\n",
    "tel_font = FontProperties(fname = 'mandali/Mandali-Regular.ttf') \n",
    "\n",
    "model.eval()\n",
    "for data in get_batch(test_src_int,test_target_int,config.batch_size):\n",
    "    x=data[0]\n",
    "    y=data[1]\n",
    "    x=x.to(torch.int64).T\n",
    "    y=y.to(torch.int64).T\n",
    "    outputs,attention_scores=model.forward(x,y,prediction=True)\n",
    "#     print(outputs.shape)\n",
    "    attention_scores=attention_scores.permute(1,0,2)\n",
    "    break\n",
    "\n",
    "scores=attention_scores.detach().cpu().numpy()\n",
    "target=y.detach().cpu().numpy()\n",
    "src=x.detach().cpu().numpy()\n",
    "out=outputs.argmax(axis=2).detach().cpu().numpy()+1\n",
    "\n",
    "\n",
    "rand_idx=random.sample(range(0,config.batch_size),9)\n",
    "fig, axes = plt.subplots(3, 3, figsize=(10,10))\n",
    "fig.tight_layout(pad=5.0)\n",
    "fig.subplots_adjust(top=0.90)\n",
    "\n",
    "axes = axes.ravel()\n",
    "for idx in range(9):\n",
    "#     print(\"*\"*20)\n",
    "    each_target=target[:,rand_idx[idx]] #(TL,N)\n",
    "    each_out=out[:,rand_idx[idx]]  #(TL,N)\n",
    "    each_score=scores[rand_idx[idx]] # (B,TL,SL)\n",
    "    each_src=src[:,rand_idx[idx]] # (SL,N)\n",
    "    pred_end_index=0\n",
    "    for i,value in enumerate(each_out):\n",
    "        if value==target_end_index:\n",
    "            pred_end_index=i\n",
    "            break\n",
    "    target_last_index=np.max(np.nonzero(each_target))\n",
    "    pred_str=decode_target(each_out[:pred_end_index],target_idx_char,target_end_index)\n",
    "    src_last_index=np.max(np.nonzero(each_src))\n",
    "    eng_str=decode_src(each_src[:src_last_index],src_idx_char)\n",
    "    mat=each_score[1:pred_end_index+1,1:src_last_index+1]\n",
    "    mat=mat.T/mat.T.sum(axis=0)\n",
    "    sns.heatmap(mat, ax=axes[idx],cmap='Blues',cbar=False)\n",
    "    axes[idx].set_yticklabels(list(eng_str),rotation=10)  \n",
    "    axes[idx].set_xticklabels(pred_str+\"$\",fontproperties = tel_font,fontdict={'fontsize':16})\n",
    "    axes[idx].xaxis.tick_top()\n",
    "    \n",
    "fig.suptitle('Attention Mechanism(HeatMap)',fontsize=20)\n",
    "wandb.log({'Attention ':wandb.Image(plt)})\n",
    "plt.show()"
   ]
  },
  {
   "cell_type": "code",
   "execution_count": null,
   "metadata": {},
   "outputs": [],
   "source": []
  }
 ],
 "metadata": {
  "kernelspec": {
   "display_name": "Python 3 (ipykernel)",
   "language": "python",
   "name": "python3"
  },
  "language_info": {
   "codemirror_mode": {
    "name": "ipython",
    "version": 3
   },
   "file_extension": ".py",
   "mimetype": "text/x-python",
   "name": "python",
   "nbconvert_exporter": "python",
   "pygments_lexer": "ipython3",
   "version": "3.9.12"
  }
 },
 "nbformat": 4,
 "nbformat_minor": 4
}
